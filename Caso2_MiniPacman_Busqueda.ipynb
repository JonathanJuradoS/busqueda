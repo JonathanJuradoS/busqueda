{
 "cells": [
  {
   "cell_type": "markdown",
   "id": "e6f7b899",
   "metadata": {},
   "source": [
    "\n",
    "## 🧠 Descripción detallada de los algoritmos de búsqueda utilizados\n",
    "\n",
    "### 🔍 Búsqueda en Profundidad (DFS - Depth First Search)\n",
    "La búsqueda en profundidad explora cada camino desde el nodo inicial hasta el nodo final lo más profundo posible antes de retroceder (backtracking). Utiliza una **pila (LIFO)** como estructura de datos para almacenar los nodos pendientes de visitar.\n",
    "\n",
    "- **Ventajas**:\n",
    "  - Requiere menos memoria que BFS.\n",
    "  - Puede encontrar soluciones rápidamente en ramas profundas.\n",
    "\n",
    "- **Desventajas**:\n",
    "  - No garantiza la solución óptima.\n",
    "  - Puede caer en ciclos si no se controlan los nodos visitados.\n",
    "\n",
    "### 🔎 Búsqueda en Amplitud (BFS - Breadth First Search)\n",
    "La búsqueda en amplitud explora todos los nodos de un nivel antes de pasar al siguiente. Utiliza una **cola (FIFO)** y garantiza encontrar la solución más corta (si todos los costos son iguales).\n",
    "\n",
    "- **Ventajas**:\n",
    "  - Encuentra el camino más corto si el costo es uniforme.\n",
    "  - Es completa: siempre encuentra una solución si existe.\n",
    "\n",
    "- **Desventajas**:\n",
    "  - Requiere más memoria que DFS.\n",
    "  - Más lenta en espacios de búsqueda amplios.\n",
    "\n",
    "### 🌄 Hill Climbing (Escalada de colinas)\n",
    "Es un algoritmo de búsqueda **local** que en cada paso se mueve al estado vecino que tenga el mejor valor según una función heurística. No retrocede ni considera otras alternativas una vez que elige un camino.\n",
    "\n",
    "- **Ventajas**:\n",
    "  - Es rápido y consume poca memoria.\n",
    "  - Sencillo de implementar.\n",
    "\n",
    "- **Desventajas**:\n",
    "  - Puede quedarse atrapado en óptimos locales.\n",
    "  - No garantiza la solución global.\n",
    "\n",
    "### 🌟 Algoritmo A* (A Star Search)\n",
    "Es un algoritmo de búsqueda informada que combina el costo real desde el estado inicial con una estimación heurística del costo restante hasta el estado objetivo. Usa la función:\n",
    "\n",
    "\\[\n",
    "f(n) = g(n) + h(n)\n",
    "\\]\n",
    "\n",
    "Donde:\n",
    "- \\( g(n) \\): costo desde el inicio hasta el nodo actual.\n",
    "- \\( h(n) \\): estimación heurística del costo restante.\n",
    "\n",
    "- **Ventajas**:\n",
    "  - Encuentra el camino más corto si la heurística es admisible.\n",
    "  - Es eficiente y óptimo en muchos casos prácticos.\n",
    "\n",
    "- **Desventajas**:\n",
    "  - Requiere mucha memoria.\n",
    "  - Su eficiencia depende de la calidad de la heurística.\n",
    "\n",
    "---\n",
    "\n",
    "👉 **En este caso práctico**, A* es ideal ya que permite encontrar rutas eficientes evitando obstáculos, mientras que DFS puede ofrecer rutas válidas pero más largas o subóptimas.\n"
   ]
  },
  {
   "cell_type": "markdown",
   "id": "03821690",
   "metadata": {
    "id": "03821690"
   },
   "source": [
    "\n",
    "# 🧠 Caso Práctico: Juego Mini Pac-Man (7x7) con DFS y A*\n",
    "\n",
    "Este notebook simula un escenario simplificado de un juego tipo Pac-Man, donde el jugador debe encontrar la mejor ruta hacia la salida evitando obstáculos y enemigos.\n",
    "\n",
    "## Objetivo:\n",
    "Comparar los resultados entre los algoritmos:\n",
    "- **DFS (Búsqueda en profundidad)**\n",
    "- **A* (Búsqueda heurística óptima)**\n",
    "\n",
    "## Mapa:\n",
    "- `'A'`: posición inicial de Pac-Man\n",
    "- `'S'`: salida\n",
    "- `'#'`: muros\n",
    "- `'F'`: enemigo (fantasma)\n"
   ]
  },
  {
   "cell_type": "code",
   "execution_count": 23,
   "id": "94600c5b",
   "metadata": {
    "id": "94600c5b"
   },
   "outputs": [],
   "source": [
    "\n",
    "import matplotlib.pyplot as plt\n",
    "import numpy as np\n",
    "import networkx as nx\n",
    "from matplotlib.colors import ListedColormap\n"
   ]
  },
  {
   "cell_type": "code",
   "execution_count": 24,
   "id": "68b8014f",
   "metadata": {
    "id": "68b8014f"
   },
   "outputs": [],
   "source": [
    "\n",
    "mapa = np.array([\n",
    "    ['A', ' ', '#', ' ', 'F', '#', ' '],\n",
    "    ['#', ' ', '#', ' ', '#', ' ', ' '],\n",
    "    [' ', ' ', ' ', ' ', '#', ' ', '#'],\n",
    "    ['#', '#', '#', ' ', '#', ' ', ' '],\n",
    "    [' ', ' ', ' ', ' ', ' ', '#', ' '],\n",
    "    ['F', '#', '#', '#', ' ', '#', 'F'],\n",
    "    [' ', ' ', ' ', '#', ' ', ' ', 'S'],\n",
    "])\n"
   ]
  },
  {
   "cell_type": "code",
   "execution_count": 25,
   "id": "6503161e",
   "metadata": {
    "id": "6503161e"
   },
   "outputs": [],
   "source": [
    "\n",
    "G = nx.Graph()\n",
    "for i in range(7):\n",
    "    for j in range(7):\n",
    "        if mapa[i, j] != '#':\n",
    "            for dx, dy in [(-1,0),(1,0),(0,-1),(0,1)]:\n",
    "                ni, nj = i + dx, j + dy\n",
    "                if 0 <= ni < 7 and 0 <= nj < 7 and mapa[ni, nj] != '#':\n",
    "                    G.add_edge((i, j), (ni, nj))\n"
   ]
  },
  {
   "cell_type": "code",
   "execution_count": 26,
   "id": "24e296ea",
   "metadata": {
    "id": "24e296ea"
   },
   "outputs": [],
   "source": [
    "\n",
    "inicio = tuple(np.argwhere(mapa == 'A')[0])\n",
    "meta = tuple(np.argwhere(mapa == 'S')[0])\n",
    "\n",
    "def heuristic(a, b):\n",
    "    return abs(a[0]-b[0]) + abs(a[1]-b[1])\n",
    "\n",
    "camino_astar = nx.astar_path(G, inicio, meta, heuristic)\n",
    "camino_dfs = list(nx.dfs_edges(G, inicio))\n",
    "camino_dfs_nodos = [inicio]\n",
    "for edge in camino_dfs:\n",
    "    if edge[0] == camino_dfs_nodos[-1]:\n",
    "        camino_dfs_nodos.append(edge[1])\n"
   ]
  },
  {
   "cell_type": "code",
   "execution_count": 27,
   "id": "92ae454e",
   "metadata": {
    "colab": {
     "base_uri": "https://localhost:8080/",
     "height": 626
    },
    "id": "92ae454e",
    "outputId": "41c9453a-0d95-4560-9fbd-ab390c196432"
   },
   "outputs": [
    {
     "data": {
      "image/png": "[encoded data removed]",
      "text/plain": [
       "<Figure size 1200x600 with 2 Axes>"
      ]
     },
     "metadata": {},
     "output_type": "display_data"
    }
   ],
   "source": [
    "\n",
    "fig, axs = plt.subplots(1, 2, figsize=(12, 6))\n",
    "cmap = ListedColormap(['white', 'black', 'red', 'green', 'yellow'])\n",
    "\n",
    "for ax, camino, titulo in zip(axs, [camino_dfs_nodos, camino_astar], [\"DFS\", \"A*\"]):\n",
    "    colores = np.full(mapa.shape, 0)\n",
    "    for i in range(7):\n",
    "        for j in range(7):\n",
    "            if mapa[i, j] == '#':\n",
    "                colores[i, j] = 1\n",
    "            elif mapa[i, j] == 'A':\n",
    "                colores[i, j] = 2\n",
    "            elif mapa[i, j] == 'S':\n",
    "                colores[i, j] = 3\n",
    "            elif mapa[i, j] == 'F':\n",
    "                colores[i, j] = 4\n",
    "\n",
    "    ax.imshow(colores, cmap=cmap)\n",
    "    for (x, y) in camino:\n",
    "        ax.text(y, x, '•', ha='center', va='center', color='blue', fontsize=14)\n",
    "    ax.set_title(f\"Ruta con {titulo}\")\n",
    "    ax.axis('off')\n",
    "\n",
    "plt.tight_layout()\n",
    "plt.show()\n"
   ]
  },
  {
   "cell_type": "markdown",
   "id": "6a000f6e",
   "metadata": {
    "id": "6a000f6e"
   },
   "source": [
    "## ▶️ Animación Paso a Paso de los Algoritmos"
   ]
  },
  {
   "cell_type": "code",
   "execution_count": 28,
   "id": "f55635d6",
   "metadata": {
    "colab": {
     "base_uri": "https://localhost:8080/",
     "height": 367
    },
    "id": "f55635d6",
    "outputId": "3a5c7119-a6cd-4552-b994-dae0b2227f67"
   },
   "outputs": [
    {
     "data": {
      "image/png": "[encoded data removed]",
      "text/plain": [
       "<Figure size 400x400 with 1 Axes>"
      ]
     },
     "metadata": {},
     "output_type": "display_data"
    }
   ],
   "source": [
    "\n",
    "import time\n",
    "from IPython.display import clear_output\n",
    "\n",
    "def mostrar_pasos(mapa, camino, titulo):\n",
    "    cmap = ListedColormap(['white', 'black', 'red', 'green', 'yellow', 'blue'])\n",
    "    for paso, (x, y) in enumerate(camino):\n",
    "        colores = np.full(mapa.shape, 0)\n",
    "        for i in range(7):\n",
    "            for j in range(7):\n",
    "                if mapa[i, j] == '#':\n",
    "                    colores[i, j] = 1\n",
    "                elif mapa[i, j] == 'A':\n",
    "                    colores[i, j] = 2\n",
    "                elif mapa[i, j] == 'S':\n",
    "                    colores[i, j] = 3\n",
    "                elif mapa[i, j] == 'F':\n",
    "                    colores[i, j] = 4\n",
    "        for k in range(paso + 1):\n",
    "            xi, yi = camino[k]\n",
    "            colores[xi, yi] = 5\n",
    "        clear_output(wait=True)\n",
    "        plt.figure(figsize=(4, 4))\n",
    "        plt.imshow(colores, cmap=cmap)\n",
    "        plt.axis('off')\n",
    "        plt.title(f'{titulo} - Paso {paso + 1}')\n",
    "        plt.show()\n",
    "        time.sleep(0.8)\n",
    "\n",
    "# Visualizar paso a paso para DFS y A*\n",
    "mostrar_pasos(mapa, camino_dfs_nodos, \"DFS\")\n",
    "mostrar_pasos(mapa, camino_astar, \"A*\")\n"
   ]
  },
  {
   "cell_type": "markdown",
   "id": "069857c0",
   "metadata": {
    "id": "069857c0"
   },
   "source": [
    "## 👾 Simulación con imágenes: El fantasma persigue a Pac-Man"
   ]
  },
  {
   "cell_type": "code",
   "execution_count": 29,
   "id": "be47ec69",
   "metadata": {
    "colab": {
     "base_uri": "https://localhost:8080/",
     "height": 521
    },
    "id": "be47ec69",
    "outputId": "cc771475-190a-4d57-a30c-3191c3688464"
   },
   "outputs": [
    {
     "name": "stdout",
     "output_type": "stream",
     "text": [
      "❌ ¡El fantasma atrapó a Pac-Man!\n"
     ]
    }
   ],
   "source": [
    "from IPython.display import clear_output\n",
    "import matplotlib.pyplot as plt\n",
    "import matplotlib.image as mpimg\n",
    "import time\n",
    "\n",
    "# Cargar imágenes\n",
    "img_pacman = mpimg.imread('/content/pacman_resized.png')\n",
    "img_fantasma = mpimg.imread('/content/fantasma_resized.png')\n",
    "\n",
    "fantasma_inicio = tuple(np.argwhere(mapa == 'F')[0])\n",
    "\n",
    "def moverse_fantasma(fantasma_pos, pacman_pos):\n",
    "    vecinos = list(G.neighbors(fantasma_pos))\n",
    "    mejor = min(vecinos, key=lambda x: heuristic(x, pacman_pos))\n",
    "    return mejor\n",
    "\n",
    "def simulacion_con_imagenes(mapa, camino_pacman):\n",
    "    pacman_pos = camino_pacman[0]\n",
    "    fantasma_pos = fantasma_inicio\n",
    "\n",
    "    for paso in range(len(camino_pacman)):\n",
    "        pacman_pos = camino_pacman[paso]\n",
    "        if paso > 0:\n",
    "            fantasma_pos = moverse_fantasma(fantasma_pos, pacman_pos)\n",
    "\n",
    "        fig, ax = plt.subplots(figsize=(6, 6))\n",
    "        ax.set_xlim(0, 7)\n",
    "        ax.set_ylim(0, 7)\n",
    "        ax.set_xticks([])\n",
    "        ax.set_yticks([])\n",
    "        ax.set_aspect('equal')\n",
    "\n",
    "        for i in range(7):\n",
    "            for j in range(7):\n",
    "                if mapa[i, j] == '#':\n",
    "                    ax.add_patch(plt.Rectangle((j, 6 - i), 1, 1, color='black'))\n",
    "                elif mapa[i, j] == 'S':\n",
    "                    ax.add_patch(plt.Rectangle((j, 6 - i), 1, 1, color='green'))\n",
    "                else:\n",
    "                    ax.add_patch(plt.Rectangle((j, 6 - i), 1, 1, color='white', edgecolor='lightgray'))\n",
    "\n",
    "        # Mostrar Pac-Man\n",
    "        ax.imshow(img_pacman, extent=(pacman_pos[1], pacman_pos[1]+1, 6 - pacman_pos[0], 6 - pacman_pos[0]+1), zorder=2)\n",
    "\n",
    "        # Mostrar Fantasma\n",
    "        ax.imshow(img_fantasma, extent=(fantasma_pos[1], fantasma_pos[1]+1, 6 - fantasma_pos[0], 6 - fantasma_pos[0]+1), zorder=2)\n",
    "\n",
    "        ax.set_title(f\"Paso {paso + 1}: Pac-Man vs Fantasma\")\n",
    "        plt.show()\n",
    "        time.sleep(0.8)\n",
    "        clear_output(wait=True)\n",
    "\n",
    "        if pacman_pos == fantasma_pos:\n",
    "            print(\"❌ ¡El fantasma atrapó a Pac-Man!\")\n",
    "            break\n",
    "    else:\n",
    "        print(\"✅ Pac-Man llegó a la meta sin ser atrapado.\")\n",
    "\n",
    "# Ejecutar la simulación actualizada\n",
    "simulacion_con_imagenes(mapa, camino_astar)"
   ]
  },
  {
   "cell_type": "code",
   "execution_count": 30,
   "id": "4Q_oZGgdOrLW",
   "metadata": {
    "colab": {
     "base_uri": "https://localhost:8080/",
     "height": 521
    },
    "id": "4Q_oZGgdOrLW",
    "outputId": "06ed18c9-5c14-4437-9abe-1022a7cc7f09"
   },
   "outputs": [
    {
     "name": "stdout",
     "output_type": "stream",
     "text": [
      "❌ ¡Un fantasma atrapó a Pac-Man!\n"
     ]
    }
   ],
   "source": [
    "from IPython.display import clear_output\n",
    "import matplotlib.pyplot as plt\n",
    "import matplotlib.image as mpimg\n",
    "import time\n",
    "\n",
    "# Cargar imágenes\n",
    "img_pacman = mpimg.imread('/content/pacman_resized.png')\n",
    "img_fantasma = mpimg.imread('/content/fantasma_resized.png')\n",
    "\n",
    "# Buscar todas las posiciones de fantasmas\n",
    "fantasmas_inicio = [tuple(pos) for pos in np.argwhere(mapa == 'F')]\n",
    "\n",
    "def moverse_fantasma(f_pos, pacman_pos):\n",
    "    vecinos = list(G.neighbors(f_pos))\n",
    "    if vecinos:\n",
    "        return min(vecinos, key=lambda x: heuristic(x, pacman_pos))\n",
    "    return f_pos\n",
    "\n",
    "def simulacion_multi_fantasmas(mapa, camino_pacman):\n",
    "    pacman_pos = camino_pacman[0]\n",
    "    fantasmas_pos = fantasmas_inicio.copy()\n",
    "\n",
    "    for paso in range(len(camino_pacman)):\n",
    "        pacman_pos = camino_pacman[paso]\n",
    "        if paso > 0:\n",
    "            fantasmas_pos = [moverse_fantasma(f, pacman_pos) for f in fantasmas_pos]\n",
    "\n",
    "        fig, ax = plt.subplots(figsize=(6, 6))\n",
    "        ax.set_xlim(0, 7)\n",
    "        ax.set_ylim(0, 7)\n",
    "        ax.set_xticks([])\n",
    "        ax.set_yticks([])\n",
    "        ax.set_aspect('equal')\n",
    "\n",
    "        for i in range(7):\n",
    "            for j in range(7):\n",
    "                if mapa[i, j] == '#':\n",
    "                    ax.add_patch(plt.Rectangle((j, 6 - i), 1, 1, color='black'))\n",
    "                elif mapa[i, j] == 'S':\n",
    "                    ax.add_patch(plt.Rectangle((j, 6 - i), 1, 1, color='green'))\n",
    "                else:\n",
    "                    ax.add_patch(plt.Rectangle((j, 6 - i), 1, 1, color='white', edgecolor='lightgray'))\n",
    "\n",
    "        # Mostrar Pac-Man\n",
    "        ax.imshow(img_pacman, extent=(pacman_pos[1], pacman_pos[1]+1, 6 - pacman_pos[0], 6 - pacman_pos[0]+1), zorder=2)\n",
    "\n",
    "        # Mostrar Fantasmas\n",
    "        for f in fantasmas_pos:\n",
    "            ax.imshow(img_fantasma, extent=(f[1], f[1]+1, 6 - f[0], 6 - f[0]+1), zorder=2)\n",
    "\n",
    "        ax.set_title(f\"Paso {paso + 1}: Pac-Man vs Múltiples Fantasmas\")\n",
    "        plt.show()\n",
    "        time.sleep(0.8)\n",
    "        clear_output(wait=True)\n",
    "\n",
    "        if pacman_pos in fantasmas_pos:\n",
    "            print(\"❌ ¡Un fantasma atrapó a Pac-Man!\")\n",
    "            break\n",
    "    else:\n",
    "        print(\"✅ Pac-Man llegó a la meta sin ser atrapado por ningún fantasma.\")\n",
    "\n",
    "# Ejecutar la simulación con múltiples fantasmas\n",
    "simulacion_multi_fantasmas(mapa, camino_astar)"
   ]
  },
  {
   "cell_type": "markdown",
   "id": "fa793392",
   "metadata": {
    "id": "fa793392"
   },
   "source": [
    "\n",
    "## ✅ Conclusiones\n",
    "\n",
    "- **DFS** encuentra una solución pero no necesariamente la más corta. Puede ser útil en árboles muy profundos, pero propenso a ciclos si no se controla.\n",
    "- **A\\*** encuentra el camino más corto si se usa una heurística admisible (como la distancia de Manhattan).\n",
    "- En este escenario, A* es más eficiente en calidad del resultado, aunque requiere más recursos computacionales en mapas más grandes.\n"
   ]
  }
 ],
 "metadata": {
  "colab": {
   "provenance": []
  },
  "kernelspec": {
   "display_name": "Python 3",
   "name": "python3"
  },
  "language_info": {
   "name": "python"
  }
 },
 "nbformat": 4,
 "nbformat_minor": 5
}
