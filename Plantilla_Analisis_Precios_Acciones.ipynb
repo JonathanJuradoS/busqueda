{
 "cells": [
  {
   "cell_type": "markdown",
   "id": "95fa7eb1",
   "metadata": {},
   "source": [
    "\n",
    "# 📘 Plantilla de Trabajo – Análisis de Precios de Acciones\n",
    "\n",
    "## 🧩 Contexto:\n",
    "Vas a trabajar con un archivo CSV que contiene los precios diarios de una acción durante 60 días. Tu tarea será encontrar los **máximos locales** (puntos altos) y **mínimos locales** (puntos bajos), que podrían representar zonas de venta y compra respectivamente.\n",
    "\n",
    "## 🎯 Objetivo:\n",
    "1. Cargar correctamente el dataset.\n",
    "2. Visualizar la evolución de los precios.\n",
    "3. Implementar funciones que detecten máximos y mínimos.\n",
    "4. Mostrar los puntos detectados en una gráfica.\n",
    "\n",
    "> 💡 Usa las técnicas de búsqueda local vistas en clase para intuir dónde se encuentran los extremos.\n",
    "\n"
   ]
  },
  {
   "cell_type": "code",
   "execution_count": null,
   "id": "90174578",
   "metadata": {},
   "outputs": [],
   "source": [
    "\n",
    "# Paso 1: Carga de datos\n",
    "# 👉 Lee el archivo Dataset_Precios_Acciones.csv y visualiza las primeras filas\n",
    "import pandas as pd\n",
    "\n",
    "# TU CÓDIGO AQUÍ\n",
    "# df = pd.read_csv(...)\n",
    "\n",
    "# print(df.head())\n"
   ]
  },
  {
   "cell_type": "code",
   "execution_count": null,
   "id": "7bf5dc88",
   "metadata": {},
   "outputs": [],
   "source": [
    "\n",
    "# Paso 2: Gráfico de evolución del precio\n",
    "# 👉 Grafica la columna 'Precio' en el tiempo (columna 'Fecha')\n",
    "\n",
    "import matplotlib.pyplot as plt\n",
    "\n",
    "# TU CÓDIGO AQUÍ\n",
    "# plt.plot(...)\n",
    "# plt.title(\"Evolución del Precio de la Acción\")\n",
    "# plt.grid(True)\n",
    "# plt.show()\n"
   ]
  },
  {
   "cell_type": "code",
   "execution_count": null,
   "id": "32c841e1",
   "metadata": {},
   "outputs": [],
   "source": [
    "\n",
    "# Paso 3: Implementar detección de máximos y mínimos locales\n",
    "# 👉 Un máximo local es cuando precio[i] > precio[i-1] y precio[i] > precio[i+1]\n",
    "# 👉 Un mínimo local es cuando precio[i] < precio[i-1] y precio[i] < precio[i+1]\n",
    "\n",
    "def detectar_extremos(precios):\n",
    "    maximos = []\n",
    "    minimos = []\n",
    "    # TU CÓDIGO AQUÍ\n",
    "    return maximos, minimos\n",
    "\n",
    "# maximos, minimos = detectar_extremos(df[\"Precio\"].values)\n",
    "# print(\"Máximos:\", maximos)\n",
    "# print(\"Mínimos:\", minimos)\n"
   ]
  },
  {
   "cell_type": "code",
   "execution_count": null,
   "id": "01614386",
   "metadata": {},
   "outputs": [],
   "source": [
    "\n",
    "# Paso 4: Visualizar resultados\n",
    "# 👉 Usar scatter para marcar máximos (rojo) y mínimos (verde) sobre el gráfico\n",
    "\n",
    "# TU CÓDIGO AQUÍ\n",
    "# plt.plot(...)\n",
    "# plt.scatter(..., color='red')\n",
    "# plt.scatter(..., color='green')\n",
    "# plt.show()\n"
   ]
  },
  {
   "cell_type": "markdown",
   "id": "4223edb8",
   "metadata": {},
   "source": [
    "\n",
    "## ✅ Reflexión final\n",
    "\n",
    "- ¿Qué patrón observas entre los máximos y mínimos?\n",
    "- ¿Cómo podrías usar esta técnica para tomar decisiones de inversión?\n",
    "- ¿Qué mejoras podrías proponer si tuvieras acceso a más datos (volumen, noticias, etc)?\n",
    "\n",
    "✍️ Escribe tus conclusiones en una celda nueva.\n"
   ]
  }
 ],
 "metadata": {},
 "nbformat": 4,
 "nbformat_minor": 5
}
